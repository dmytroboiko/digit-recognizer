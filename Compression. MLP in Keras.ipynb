{
 "cells": [
  {
   "cell_type": "code",
   "execution_count": 49,
   "metadata": {},
   "outputs": [],
   "source": [
    "from keras import backend as K\n",
    "from keras.models import Sequential\n",
    "from keras.utils import np_utils\n",
    "from keras.layers.core import Dense, Activation, Dropout"
   ]
  },
  {
   "cell_type": "code",
   "execution_count": 3,
   "metadata": {},
   "outputs": [],
   "source": [
    "import pandas as pd\n",
    "import numpy as np\n",
    "import matplotlib.pyplot as plt"
   ]
  },
  {
   "cell_type": "code",
   "execution_count": 4,
   "metadata": {},
   "outputs": [],
   "source": [
    "# Read data\n",
    "train = pd.read_csv('data/train.csv')\n",
    "# shuffle\n",
    "train = train.sample(frac=1)"
   ]
  },
  {
   "cell_type": "code",
   "execution_count": 5,
   "metadata": {},
   "outputs": [],
   "source": [
    "labels = train.iloc[:,0].values.astype('int32')\n",
    "x_train = (train.iloc[:,1:].values).astype('float32')\n",
    "x_test = (pd.read_csv('data/test.csv').values).astype('float32')"
   ]
  },
  {
   "cell_type": "code",
   "execution_count": 6,
   "metadata": {},
   "outputs": [],
   "source": [
    "# expect same output as input\n",
    "y_train = x_train"
   ]
  },
  {
   "cell_type": "code",
   "execution_count": 7,
   "metadata": {},
   "outputs": [],
   "source": [
    "scale = np.max(x_train)\n",
    "x_train /= scale\n",
    "x_test /= scale\n",
    "\n",
    "mean = np.std(x_train)\n",
    "x_train -= mean\n",
    "x_test -= mean"
   ]
  },
  {
   "cell_type": "code",
   "execution_count": 8,
   "metadata": {},
   "outputs": [],
   "source": [
    "input_dim = x_train.shape[1]\n",
    "nb_classes = y_train.shape[1]"
   ]
  },
  {
   "cell_type": "code",
   "execution_count": 39,
   "metadata": {},
   "outputs": [],
   "source": [
    "model = Sequential()\n",
    "model.add(Dense(128, input_dim=input_dim))\n",
    "model.add(Activation('relu'))\n",
    "model.add(Dense(64))\n",
    "model.add(Activation('relu'))\n",
    "model.add(Dense(input_dim))\n",
    "model.add(Activation('tanh'))"
   ]
  },
  {
   "cell_type": "code",
   "execution_count": 40,
   "metadata": {},
   "outputs": [],
   "source": [
    "model.compile(loss='mean_squared_error', optimizer='adam', metrics=['mean_squared_error'])"
   ]
  },
  {
   "cell_type": "code",
   "execution_count": 41,
   "metadata": {},
   "outputs": [
    {
     "name": "stdout",
     "output_type": "stream",
     "text": [
      "Train on 37800 samples, validate on 4200 samples\n",
      "Epoch 1/20\n",
      " - 18s - loss: 0.0204 - mean_squared_error: 0.0204 - val_loss: 0.0136 - val_mean_squared_error: 0.0136\n",
      "Epoch 2/20\n",
      " - 18s - loss: 0.0128 - mean_squared_error: 0.0128 - val_loss: 0.0122 - val_mean_squared_error: 0.0122\n",
      "Epoch 3/20\n",
      " - 15s - loss: 0.0120 - mean_squared_error: 0.0120 - val_loss: 0.0118 - val_mean_squared_error: 0.0118\n",
      "Epoch 4/20\n",
      " - 15s - loss: 0.0118 - mean_squared_error: 0.0118 - val_loss: 0.0117 - val_mean_squared_error: 0.0117\n",
      "Epoch 5/20\n",
      " - 14s - loss: 0.0118 - mean_squared_error: 0.0118 - val_loss: 0.0119 - val_mean_squared_error: 0.0119\n",
      "Epoch 6/20\n",
      " - 14s - loss: 0.0117 - mean_squared_error: 0.0117 - val_loss: 0.0117 - val_mean_squared_error: 0.0117\n",
      "Epoch 7/20\n",
      " - 23s - loss: 0.0117 - mean_squared_error: 0.0117 - val_loss: 0.0116 - val_mean_squared_error: 0.0116\n",
      "Epoch 8/20\n",
      " - 18s - loss: 0.0116 - mean_squared_error: 0.0116 - val_loss: 0.0117 - val_mean_squared_error: 0.0117\n",
      "Epoch 9/20\n",
      " - 14s - loss: 0.0116 - mean_squared_error: 0.0116 - val_loss: 0.0116 - val_mean_squared_error: 0.0116\n",
      "Epoch 10/20\n",
      " - 14s - loss: 0.0116 - mean_squared_error: 0.0116 - val_loss: 0.0116 - val_mean_squared_error: 0.0116\n",
      "Epoch 11/20\n",
      " - 14s - loss: 0.0115 - mean_squared_error: 0.0115 - val_loss: 0.0115 - val_mean_squared_error: 0.0115\n",
      "Epoch 12/20\n",
      " - 15s - loss: 0.0115 - mean_squared_error: 0.0115 - val_loss: 0.0114 - val_mean_squared_error: 0.0114\n",
      "Epoch 13/20\n",
      " - 14s - loss: 0.0115 - mean_squared_error: 0.0115 - val_loss: 0.0115 - val_mean_squared_error: 0.0115\n",
      "Epoch 14/20\n",
      " - 17s - loss: 0.0115 - mean_squared_error: 0.0115 - val_loss: 0.0114 - val_mean_squared_error: 0.0114\n",
      "Epoch 15/20\n",
      " - 14s - loss: 0.0115 - mean_squared_error: 0.0115 - val_loss: 0.0114 - val_mean_squared_error: 0.0114\n",
      "Epoch 16/20\n",
      " - 15s - loss: 0.0115 - mean_squared_error: 0.0115 - val_loss: 0.0114 - val_mean_squared_error: 0.0114\n",
      "Epoch 17/20\n",
      " - 14s - loss: 0.0115 - mean_squared_error: 0.0115 - val_loss: 0.0114 - val_mean_squared_error: 0.0114\n",
      "Epoch 18/20\n",
      " - 14s - loss: 0.0114 - mean_squared_error: 0.0114 - val_loss: 0.0115 - val_mean_squared_error: 0.0115\n",
      "Epoch 19/20\n",
      " - 14s - loss: 0.0114 - mean_squared_error: 0.0114 - val_loss: 0.0114 - val_mean_squared_error: 0.0114\n",
      "Epoch 20/20\n",
      " - 15s - loss: 0.0114 - mean_squared_error: 0.0114 - val_loss: 0.0115 - val_mean_squared_error: 0.0115\n"
     ]
    }
   ],
   "source": [
    "history = model.fit(x_train, y_train, epochs=20, batch_size=16, validation_split=0.1, verbose=2)"
   ]
  },
  {
   "cell_type": "code",
   "execution_count": 42,
   "metadata": {},
   "outputs": [
    {
     "data": {
      "image/png": "[encoded data removed]",
      "text/plain": [
       "<Figure size 432x288 with 1 Axes>"
      ]
     },
     "metadata": {
      "needs_background": "light"
     },
     "output_type": "display_data"
    }
   ],
   "source": [
    "# Plot training & validation accuracy values\n",
    "plt.plot(history.history['mean_squared_error'])\n",
    "plt.plot(history.history['val_mean_squared_error'])\n",
    "plt.title('Model Error')\n",
    "plt.ylabel('Accuracy')\n",
    "plt.xlabel('Epoch')\n",
    "plt.legend(['Train', 'Test'], loc='upper left')\n",
    "plt.show()"
   ]
  },
  {
   "cell_type": "code",
   "execution_count": 53,
   "metadata": {},
   "outputs": [
    {
     "data": {
      "text/plain": [
       "(20, 64)"
      ]
     },
     "execution_count": 53,
     "metadata": {},
     "output_type": "execute_result"
    }
   ],
   "source": [
    "inp = model.input                                           # input placeholder\n",
    "outputs = [layer.output for layer in model.layers]          # all layer outputs\n",
    "functor = K.function([inp, K.learning_phase()], outputs )   # evaluation function\n",
    "\n",
    "# Testing\n",
    "layer_outs = functor([x_train[0:20], 1.])\n",
    "layer_outs[3].shape"
   ]
  },
  {
   "cell_type": "code",
   "execution_count": 63,
   "metadata": {},
   "outputs": [
    {
     "data": {
      "text/plain": [
       "(64, 784)"
      ]
     },
     "execution_count": 63,
     "metadata": {},
     "output_type": "execute_result"
    }
   ],
   "source": [
    "model.layers[4].get_weights()[0].shape"
   ]
  },
  {
   "cell_type": "code",
   "execution_count": 64,
   "metadata": {},
   "outputs": [
    {
     "data": {
      "text/plain": [
       "(784,)"
      ]
     },
     "execution_count": 64,
     "metadata": {},
     "output_type": "execute_result"
    }
   ],
   "source": [
    "model.layers[4].get_weights()[1].shape"
   ]
  },
  {
   "cell_type": "code",
   "execution_count": 68,
   "metadata": {},
   "outputs": [],
   "source": [
    "np.save('data/compressed_images', layer_outs[3])\n",
    "np.save('data/decoder_weights', model.layers[4].get_weights()[0])\n",
    "np.save('data/decoder_biases', model.layers[4].get_weights()[1])"
   ]
  },
  {
   "cell_type": "code",
   "execution_count": null,
   "metadata": {},
   "outputs": [],
   "source": []
  }
 ],
 "metadata": {
  "kernelspec": {
   "display_name": "Python 3",
   "language": "python",
   "name": "python3"
  },
  "language_info": {
   "codemirror_mode": {
    "name": "ipython",
    "version": 3
   },
   "file_extension": ".py",
   "mimetype": "text/x-python",
   "name": "python",
   "nbconvert_exporter": "python",
   "pygments_lexer": "ipython3",
   "version": "3.6.6"
  }
 },
 "nbformat": 4,
 "nbformat_minor": 2
}
